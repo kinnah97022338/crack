{
 "cells": [
  {
   "cell_type": "code",
   "execution_count": 5,
   "metadata": {},
   "outputs": [
    {
     "name": "stdout",
     "output_type": "stream",
     "text": [
      "Found 32000 images belonging to 2 classes.\n",
      "Found 8000 images belonging to 2 classes.\n",
      "Epoch 1/10\n",
      "1000/1000 [==============================] - 1586s 2s/step - loss: 0.1576 - accuracy: 0.9527 - val_loss: 0.0284 - val_accuracy: 0.9911\n",
      "Epoch 2/10\n",
      "1000/1000 [==============================] - 9805s 10s/step - loss: 0.0496 - accuracy: 0.9843 - val_loss: 0.0321 - val_accuracy: 0.9945\n",
      "Epoch 3/10\n",
      "1000/1000 [==============================] - 1124s 1s/step - loss: 0.0498 - accuracy: 0.9834 - val_loss: 0.0234 - val_accuracy: 0.9930\n",
      "Epoch 4/10\n",
      "1000/1000 [==============================] - 1466s 1s/step - loss: 0.0690 - accuracy: 0.9844 - val_loss: 0.0202 - val_accuracy: 0.9930\n",
      "Epoch 5/10\n",
      "1000/1000 [==============================] - 1429s 1s/step - loss: 0.0319 - accuracy: 0.9910 - val_loss: 0.0129 - val_accuracy: 0.9960\n",
      "Epoch 6/10\n",
      "1000/1000 [==============================] - 3820s 4s/step - loss: 0.0360 - accuracy: 0.9899 - val_loss: 0.0399 - val_accuracy: 0.9933\n",
      "Epoch 7/10\n",
      "1000/1000 [==============================] - 4504s 5s/step - loss: 0.0274 - accuracy: 0.9921 - val_loss: 0.0141 - val_accuracy: 0.9950\n",
      "Epoch 8/10\n",
      "1000/1000 [==============================] - 1545s 2s/step - loss: 0.0319 - accuracy: 0.9912 - val_loss: 0.0160 - val_accuracy: 0.9960\n",
      "Epoch 9/10\n",
      "1000/1000 [==============================] - 1295s 1s/step - loss: 0.0293 - accuracy: 0.9917 - val_loss: 0.0145 - val_accuracy: 0.9966\n",
      "Epoch 10/10\n",
      "1000/1000 [==============================] - 1346s 1s/step - loss: 0.0396 - accuracy: 0.9897 - val_loss: 0.0143 - val_accuracy: 0.9964\n"
     ]
    },
    {
     "name": "stderr",
     "output_type": "stream",
     "text": [
      "c:\\Users\\kinnah\\anaconda3\\Lib\\site-packages\\keras\\src\\engine\\training.py:3079: UserWarning: You are saving your model as an HDF5 file via `model.save()`. This file format is considered legacy. We recommend using instead the native Keras format, e.g. `model.save('my_model.keras')`.\n",
      "  saving_api.save_model(\n"
     ]
    }
   ],
   "source": [
    "import tensorflow as tf\n",
    "from tensorflow.keras import layers, models\n",
    "from tensorflow.keras.preprocessing.image import ImageDataGenerator\n",
    "\n",
    "# Data paths\n",
    "train_data_dir = 'c:/Users/kinnah/Downloads/New folder (61)/archive/concrete_crack_dataset/'\n",
    "\n",
    "# Parameters\n",
    "batch_size = 32\n",
    "img_height, img_width = 224, 224\n",
    "\n",
    "# Data augmentation\n",
    "train_datagen = ImageDataGenerator(\n",
    "    rescale=1./255,\n",
    "    shear_range=0.2,\n",
    "    zoom_range=0.2,\n",
    "    horizontal_flip=True,\n",
    "    validation_split=0.2\n",
    ")\n",
    "\n",
    "train_generator = train_datagen.flow_from_directory(\n",
    "    train_data_dir,\n",
    "    target_size=(img_height, img_width),\n",
    "    batch_size=batch_size,\n",
    "    class_mode='binary',\n",
    "    subset='training'\n",
    ")\n",
    "\n",
    "validation_generator = train_datagen.flow_from_directory(\n",
    "    train_data_dir,\n",
    "    target_size=(img_height, img_width),\n",
    "    batch_size=batch_size,\n",
    "    class_mode='binary',\n",
    "    subset='validation'\n",
    ")\n",
    "\n",
    "# Model architecture\n",
    "model = models.Sequential()\n",
    "model.add(layers.Conv2D(32, (3, 3), activation='relu', input_shape=(img_height, img_width, 3)))\n",
    "model.add(layers.MaxPooling2D((2, 2)))\n",
    "model.add(layers.Conv2D(64, (3, 3), activation='relu'))\n",
    "model.add(layers.MaxPooling2D((2, 2)))\n",
    "model.add(layers.Conv2D(128, (3, 3), activation='relu'))\n",
    "model.add(layers.MaxPooling2D((2, 2)))\n",
    "model.add(layers.Flatten())\n",
    "model.add(layers.Dense(128, activation='relu'))\n",
    "model.add(layers.Dropout(0.5))\n",
    "model.add(layers.Dense(1, activation='sigmoid'))\n",
    "\n",
    "# Compile the model\n",
    "model.compile(optimizer='adam', loss='binary_crossentropy', metrics=['accuracy'])\n",
    "\n",
    "# Train the model\n",
    "epochs = 10\n",
    "model.fit(\n",
    "    train_generator,\n",
    "    epochs=epochs,\n",
    "    validation_data=validation_generator\n",
    ")\n",
    "\n",
    "# Save the model\n",
    "model.save('concrete_crack_model.h5')\n"
   ]
  },
  {
   "cell_type": "code",
   "execution_count": 6,
   "metadata": {},
   "outputs": [
    {
     "name": "stderr",
     "output_type": "stream",
     "text": [
      "2023-11-19 22:34:09.232 \n",
      "  \u001b[33m\u001b[1mWarning:\u001b[0m to view this Streamlit app on a browser, run it with the following\n",
      "  command:\n",
      "\n",
      "    streamlit run C:\\Users\\kinnah\\AppData\\Roaming\\Python\\Python311\\site-packages\\ipykernel_launcher.py [ARGUMENTS]\n"
     ]
    }
   ],
   "source": [
    "\n"
   ]
  },
  {
   "cell_type": "code",
   "execution_count": null,
   "metadata": {},
   "outputs": [],
   "source": []
  }
 ],
 "metadata": {
  "kernelspec": {
   "display_name": "base",
   "language": "python",
   "name": "python3"
  },
  "language_info": {
   "codemirror_mode": {
    "name": "ipython",
    "version": 3
   },
   "file_extension": ".py",
   "mimetype": "text/x-python",
   "name": "python",
   "nbconvert_exporter": "python",
   "pygments_lexer": "ipython3",
   "version": "3.11.5"
  }
 },
 "nbformat": 4,
 "nbformat_minor": 2
}
